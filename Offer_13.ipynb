{
  "nbformat": 4,
  "nbformat_minor": 0,
  "metadata": {
    "colab": {
      "name": "Offer_13.ipynb",
      "provenance": [],
      "collapsed_sections": [],
      "authorship_tag": "ABX9TyPFqZop2PaOuwKk+f/R11Le",
      "include_colab_link": true
    },
    "kernelspec": {
      "name": "python3",
      "display_name": "Python 3"
    },
    "language_info": {
      "name": "python"
    }
  },
  "cells": [
    {
      "cell_type": "markdown",
      "metadata": {
        "id": "view-in-github",
        "colab_type": "text"
      },
      "source": [
        "<a href=\"https://colab.research.google.com/github/YiminYang980510/Leetcode_Routine/blob/Tommy980510-patch-1/Offer_13.ipynb\" target=\"_parent\"><img src=\"https://colab.research.google.com/assets/colab-badge.svg\" alt=\"Open In Colab\"/></a>"
      ]
    },
    {
      "cell_type": "markdown",
      "metadata": {
        "id": "DntehmQ6_eVd"
      },
      "source": [
        "地上有一个m行n列的方格，从坐标 [0,0] 到坐标 [m-1,n-1] 。一个机器人从坐标 [0, 0] 的格子开始移动，它每次可以向左、右、上、下移动一格（不能移动到方格外），也不能进入行坐标和列坐标的数位之和大于k的格子。例如，当k为18时，机器人能够进入方格 [35, 37] ，因为3+5+3+7=18。但它不能进入方格 [35, 38]，因为3+5+3+8=19。请问该机器人能够到达多少个格子？\n",
        "\n",
        "来源：力扣（LeetCode）\n",
        "链接：https://leetcode-cn.com/problems/ji-qi-ren-de-yun-dong-fan-wei-lcof\n",
        "著作权归领扣网络所有。商业转载请联系官方授权，非商业转载请注明出处。"
      ]
    },
    {
      "cell_type": "code",
      "metadata": {
        "id": "JMxM-rdH_hkU"
      },
      "source": [
        "class Solution:\n",
        "\n",
        "    def sum_num(self, num: int):\n",
        "      sum = 0\n",
        "      while num != 0:\n",
        "        sum += num % 10\n",
        "        num //= 10\n",
        "      return sum\n",
        "\n",
        "    def movingCount(self, m: int, n: int, k: int) -> int:\n",
        "      from queue import Queue\n",
        "      q = Queue()\n",
        "      q.put((0, 0))\n",
        "      s = set()\n",
        "      while not q.empty():\n",
        "        x, y = q.get()\n",
        "        if (x, y) not in s and 0 <= x < m and 0 <= y < n and self.sum_num(x) + self.sum_num(y) <= k:\n",
        "          s.add((x, y))\n",
        "          for nx, ny in [(x + 1, y), [x, y + 1]]:\n",
        "            q.put((nx, ny))\n",
        "      return len(s)\n",
        "\n",
        "    def movingCountSolutionTwo(self, m, n, k):\n",
        "        ans = set([(0, 0)])\n",
        "        for i in range(m):\n",
        "          for j in range(n):\n",
        "            # since coordinate(i, j) will only come from (i, j-1) or (i-1, j)\n",
        "            if ((i-1, j)) in ans or (i, j-1) in ans and self.sum_num(i) + self.sum_num(j) <= k:\n",
        "              ans.add((i, j))\n",
        "        return len(ans)\n",
        "\n",
        "      \n"
      ],
      "execution_count": 26,
      "outputs": []
    },
    {
      "cell_type": "code",
      "metadata": {
        "id": "MXM67Spe6Kbv"
      },
      "source": [
        ""
      ],
      "execution_count": null,
      "outputs": []
    },
    {
      "cell_type": "code",
      "metadata": {
        "colab": {
          "base_uri": "https://localhost:8080/"
        },
        "id": "Kpe5Rdo5P2xR",
        "outputId": "c77ee3fe-9630-49df-ff4e-7280cd901ab4"
      },
      "source": [
        "s = Solution()\n",
        "s.movingCountSolutionTwo(3, 4, 10)"
      ],
      "execution_count": 27,
      "outputs": [
        {
          "output_type": "execute_result",
          "data": {
            "text/plain": [
              "12"
            ]
          },
          "metadata": {
            "tags": []
          },
          "execution_count": 27
        }
      ]
    },
    {
      "cell_type": "code",
      "metadata": {
        "id": "FjTKzLw94yp1"
      },
      "source": [
        ""
      ],
      "execution_count": null,
      "outputs": []
    }
  ]
}